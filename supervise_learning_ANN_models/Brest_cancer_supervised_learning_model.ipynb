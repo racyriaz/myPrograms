{
 "cells": [
  {
   "cell_type": "code",
   "execution_count": 28,
   "metadata": {},
   "outputs": [],
   "source": [
    "import numpy as np\n",
    "import pandas as pd\n",
    "import matplotlib.pyplot as plt\n",
    "import seaborn as sns"
   ]
  },
  {
   "cell_type": "code",
   "execution_count": 29,
   "metadata": {},
   "outputs": [],
   "source": [
    "df = pd.read_csv('../DATA/cancer_classification.csv')"
   ]
  },
  {
   "cell_type": "code",
   "execution_count": 6,
   "metadata": {},
   "outputs": [],
   "source": [
    "#df.info()\n",
    "#plt.figure(figsize=(15,5))\n",
    "#df.corr()['benign_0__mal_1'].sort_values()[:-1].plot(kind='bar')\n"
   ]
  },
  {
   "cell_type": "code",
   "execution_count": 4,
   "metadata": {},
   "outputs": [],
   "source": [
    "#sns.heatmap(df.corr())"
   ]
  },
  {
   "cell_type": "code",
   "execution_count": 5,
   "metadata": {},
   "outputs": [],
   "source": [
    "#df.corr()['benign_0__mal_1'].plot(kind='barh',figsize=(10,10),title='correlation of benign_0__mal_1 ',xlabel='features',ylabel='relations')"
   ]
  },
  {
   "cell_type": "code",
   "execution_count": 30,
   "metadata": {},
   "outputs": [],
   "source": [
    "x = df.drop('benign_0__mal_1',axis=1).values\n",
    "y = df['benign_0__mal_1'].values"
   ]
  },
  {
   "cell_type": "code",
   "execution_count": 31,
   "metadata": {},
   "outputs": [],
   "source": [
    "from sklearn.model_selection import train_test_split"
   ]
  },
  {
   "cell_type": "code",
   "execution_count": 55,
   "metadata": {},
   "outputs": [],
   "source": [
    "X_train, X_test, y_train, y_test = train_test_split(x, y, test_size=0.20, random_state=42)"
   ]
  },
  {
   "cell_type": "code",
   "execution_count": 56,
   "metadata": {},
   "outputs": [],
   "source": [
    "from sklearn.preprocessing import MinMaxScaler"
   ]
  },
  {
   "cell_type": "code",
   "execution_count": 57,
   "metadata": {},
   "outputs": [],
   "source": [
    "scaler = MinMaxScaler()\n",
    "X_train = scaler.fit_transform(X_train)\n",
    "X_test = scaler.transform(X_test)"
   ]
  },
  {
   "cell_type": "code",
   "execution_count": 58,
   "metadata": {},
   "outputs": [],
   "source": [
    "from tensorflow.keras.models import Sequential\n",
    "from tensorflow.keras.layers import Dense,Dropout,Activation\n",
    "from tensorflow.keras.callbacks import EarlyStopping"
   ]
  },
  {
   "cell_type": "code",
   "execution_count": 59,
   "metadata": {},
   "outputs": [
    {
     "data": {
      "text/plain": [
       "(455, 30)"
      ]
     },
     "execution_count": 59,
     "metadata": {},
     "output_type": "execute_result"
    }
   ],
   "source": [
    "X_train.shape"
   ]
  },
  {
   "cell_type": "code",
   "execution_count": 60,
   "metadata": {},
   "outputs": [],
   "source": [
    "model = Sequential()\n",
    "model.add(Dense(30,activation='relu'))\n",
    "model.add(Dropout(0.5))\n",
    "model.add(Dense(15,activation='relu'))\n",
    "model.add(Dropout(0.25))\n",
    "model.add(Dense(1,activation='sigmoid'))\n",
    "\n",
    "model.compile(loss='binary_crossentropy',optimizer='adam')"
   ]
  },
  {
   "cell_type": "code",
   "execution_count": 61,
   "metadata": {},
   "outputs": [],
   "source": [
    "early_stop = EarlyStopping(monitor='val_loss',mode='min',verbose=1,patience=20)"
   ]
  },
  {
   "cell_type": "code",
   "execution_count": 62,
   "metadata": {},
   "outputs": [
    {
     "name": "stdout",
     "output_type": "stream",
     "text": [
      "Train on 455 samples, validate on 114 samples\n",
      "Epoch 1/600\n",
      "455/455 [==============================] - 1s 2ms/step - loss: 0.6972 - val_loss: 0.6690\n",
      "Epoch 2/600\n",
      "455/455 [==============================] - 0s 131us/step - loss: 0.6632 - val_loss: 0.6436\n",
      "Epoch 3/600\n",
      "455/455 [==============================] - 0s 117us/step - loss: 0.6549 - val_loss: 0.6182\n",
      "Epoch 4/600\n",
      "455/455 [==============================] - 0s 108us/step - loss: 0.6331 - val_loss: 0.5865\n",
      "Epoch 5/600\n",
      "455/455 [==============================] - 0s 108us/step - loss: 0.6080 - val_loss: 0.5580\n",
      "Epoch 6/600\n",
      "455/455 [==============================] - 0s 105us/step - loss: 0.5879 - val_loss: 0.5313\n",
      "Epoch 7/600\n",
      "455/455 [==============================] - 0s 112us/step - loss: 0.5623 - val_loss: 0.4972\n",
      "Epoch 8/600\n",
      "455/455 [==============================] - 0s 116us/step - loss: 0.5376 - val_loss: 0.4617\n",
      "Epoch 9/600\n",
      "455/455 [==============================] - 0s 123us/step - loss: 0.4961 - val_loss: 0.4258\n",
      "Epoch 10/600\n",
      "455/455 [==============================] - 0s 123us/step - loss: 0.4760 - val_loss: 0.3847\n",
      "Epoch 11/600\n",
      "455/455 [==============================] - 0s 123us/step - loss: 0.4458 - val_loss: 0.3631\n",
      "Epoch 12/600\n",
      "455/455 [==============================] - 0s 114us/step - loss: 0.4355 - val_loss: 0.3255\n",
      "Epoch 13/600\n",
      "455/455 [==============================] - 0s 114us/step - loss: 0.3961 - val_loss: 0.3022\n",
      "Epoch 14/600\n",
      "455/455 [==============================] - 0s 121us/step - loss: 0.3886 - val_loss: 0.2918\n",
      "Epoch 15/600\n",
      "455/455 [==============================] - 0s 112us/step - loss: 0.3831 - val_loss: 0.2681\n",
      "Epoch 16/600\n",
      "455/455 [==============================] - 0s 116us/step - loss: 0.3643 - val_loss: 0.2528\n",
      "Epoch 17/600\n",
      "455/455 [==============================] - 0s 119us/step - loss: 0.3368 - val_loss: 0.2335\n",
      "Epoch 18/600\n",
      "455/455 [==============================] - 0s 112us/step - loss: 0.3120 - val_loss: 0.2211\n",
      "Epoch 19/600\n",
      "455/455 [==============================] - 0s 114us/step - loss: 0.3061 - val_loss: 0.2105\n",
      "Epoch 20/600\n",
      "455/455 [==============================] - 0s 116us/step - loss: 0.3092 - val_loss: 0.1976\n",
      "Epoch 21/600\n",
      "455/455 [==============================] - 0s 130us/step - loss: 0.3084 - val_loss: 0.1888\n",
      "Epoch 22/600\n",
      "455/455 [==============================] - 0s 178us/step - loss: 0.2978 - val_loss: 0.1840\n",
      "Epoch 23/600\n",
      "455/455 [==============================] - 0s 123us/step - loss: 0.2794 - val_loss: 0.1819\n",
      "Epoch 24/600\n",
      "455/455 [==============================] - 0s 171us/step - loss: 0.2925 - val_loss: 0.1759\n",
      "Epoch 25/600\n",
      "455/455 [==============================] - 0s 144us/step - loss: 0.2517 - val_loss: 0.1681\n",
      "Epoch 26/600\n",
      "455/455 [==============================] - 0s 117us/step - loss: 0.2519 - val_loss: 0.1609\n",
      "Epoch 27/600\n",
      "455/455 [==============================] - 0s 125us/step - loss: 0.2585 - val_loss: 0.1519\n",
      "Epoch 28/600\n",
      "455/455 [==============================] - 0s 147us/step - loss: 0.2486 - val_loss: 0.1455\n",
      "Epoch 29/600\n",
      "455/455 [==============================] - 0s 116us/step - loss: 0.2285 - val_loss: 0.1451\n",
      "Epoch 30/600\n",
      "455/455 [==============================] - 0s 122us/step - loss: 0.2270 - val_loss: 0.1397\n",
      "Epoch 31/600\n",
      "455/455 [==============================] - 0s 121us/step - loss: 0.2126 - val_loss: 0.1312\n",
      "Epoch 32/600\n",
      "455/455 [==============================] - 0s 119us/step - loss: 0.2478 - val_loss: 0.1285\n",
      "Epoch 33/600\n",
      "455/455 [==============================] - 0s 112us/step - loss: 0.2168 - val_loss: 0.1244\n",
      "Epoch 34/600\n",
      "455/455 [==============================] - 0s 116us/step - loss: 0.2171 - val_loss: 0.1217\n",
      "Epoch 35/600\n",
      "455/455 [==============================] - 0s 121us/step - loss: 0.1831 - val_loss: 0.1154\n",
      "Epoch 36/600\n",
      "455/455 [==============================] - 0s 121us/step - loss: 0.2016 - val_loss: 0.1128\n",
      "Epoch 37/600\n",
      "455/455 [==============================] - 0s 112us/step - loss: 0.2067 - val_loss: 0.1180\n",
      "Epoch 38/600\n",
      "455/455 [==============================] - 0s 121us/step - loss: 0.2102 - val_loss: 0.1103\n",
      "Epoch 39/600\n",
      "455/455 [==============================] - 0s 112us/step - loss: 0.1905 - val_loss: 0.1091\n",
      "Epoch 40/600\n",
      "455/455 [==============================] - 0s 108us/step - loss: 0.1757 - val_loss: 0.1065\n",
      "Epoch 41/600\n",
      "455/455 [==============================] - 0s 112us/step - loss: 0.1871 - val_loss: 0.1045\n",
      "Epoch 42/600\n",
      "455/455 [==============================] - 0s 121us/step - loss: 0.1985 - val_loss: 0.0998\n",
      "Epoch 43/600\n",
      "455/455 [==============================] - 0s 125us/step - loss: 0.1883 - val_loss: 0.0991\n",
      "Epoch 44/600\n",
      "455/455 [==============================] - 0s 99us/step - loss: 0.1772 - val_loss: 0.1010\n",
      "Epoch 45/600\n",
      "455/455 [==============================] - 0s 152us/step - loss: 0.1750 - val_loss: 0.0931\n",
      "Epoch 46/600\n",
      "455/455 [==============================] - 0s 104us/step - loss: 0.1976 - val_loss: 0.0979\n",
      "Epoch 47/600\n",
      "455/455 [==============================] - 0s 142us/step - loss: 0.1664 - val_loss: 0.0929\n",
      "Epoch 48/600\n",
      "455/455 [==============================] - 0s 98us/step - loss: 0.1675 - val_loss: 0.0902\n",
      "Epoch 49/600\n",
      "455/455 [==============================] - 0s 159us/step - loss: 0.1463 - val_loss: 0.0870\n",
      "Epoch 50/600\n",
      "455/455 [==============================] - 0s 123us/step - loss: 0.1459 - val_loss: 0.0873\n",
      "Epoch 51/600\n",
      "455/455 [==============================] - 0s 119us/step - loss: 0.1460 - val_loss: 0.0828\n",
      "Epoch 52/600\n",
      "455/455 [==============================] - 0s 125us/step - loss: 0.1499 - val_loss: 0.0805\n",
      "Epoch 53/600\n",
      "455/455 [==============================] - 0s 116us/step - loss: 0.1548 - val_loss: 0.0796\n",
      "Epoch 54/600\n",
      "455/455 [==============================] - 0s 123us/step - loss: 0.1395 - val_loss: 0.0789\n",
      "Epoch 55/600\n",
      "455/455 [==============================] - 0s 127us/step - loss: 0.1427 - val_loss: 0.0778\n",
      "Epoch 56/600\n",
      "455/455 [==============================] - 0s 118us/step - loss: 0.1413 - val_loss: 0.0830\n",
      "Epoch 57/600\n",
      "455/455 [==============================] - 0s 152us/step - loss: 0.1605 - val_loss: 0.0781\n",
      "Epoch 58/600\n",
      "455/455 [==============================] - 0s 121us/step - loss: 0.1434 - val_loss: 0.0763\n",
      "Epoch 59/600\n",
      "455/455 [==============================] - 0s 130us/step - loss: 0.1190 - val_loss: 0.0735\n",
      "Epoch 60/600\n",
      "455/455 [==============================] - 0s 116us/step - loss: 0.1295 - val_loss: 0.0717\n",
      "Epoch 61/600\n",
      "455/455 [==============================] - 0s 107us/step - loss: 0.1489 - val_loss: 0.0722\n",
      "Epoch 62/600\n",
      "455/455 [==============================] - 0s 110us/step - loss: 0.1187 - val_loss: 0.0719\n",
      "Epoch 63/600\n",
      "455/455 [==============================] - 0s 112us/step - loss: 0.1310 - val_loss: 0.0721\n",
      "Epoch 64/600\n",
      "455/455 [==============================] - 0s 110us/step - loss: 0.1328 - val_loss: 0.0715\n",
      "Epoch 65/600\n",
      "455/455 [==============================] - 0s 110us/step - loss: 0.1001 - val_loss: 0.0686\n",
      "Epoch 66/600\n",
      "455/455 [==============================] - 0s 108us/step - loss: 0.1112 - val_loss: 0.0675\n",
      "Epoch 67/600\n",
      "455/455 [==============================] - 0s 105us/step - loss: 0.1262 - val_loss: 0.0677\n",
      "Epoch 68/600\n",
      "455/455 [==============================] - 0s 110us/step - loss: 0.1131 - val_loss: 0.0752\n",
      "Epoch 69/600\n",
      "455/455 [==============================] - 0s 112us/step - loss: 0.1061 - val_loss: 0.0687\n",
      "Epoch 70/600\n",
      "455/455 [==============================] - 0s 126us/step - loss: 0.1073 - val_loss: 0.0726\n",
      "Epoch 71/600\n",
      "455/455 [==============================] - 0s 110us/step - loss: 0.1154 - val_loss: 0.0718\n",
      "Epoch 72/600\n",
      "455/455 [==============================] - 0s 114us/step - loss: 0.1201 - val_loss: 0.0698\n",
      "Epoch 73/600\n",
      "455/455 [==============================] - 0s 108us/step - loss: 0.0945 - val_loss: 0.0685\n",
      "Epoch 74/600\n",
      "455/455 [==============================] - 0s 117us/step - loss: 0.1157 - val_loss: 0.0671\n",
      "Epoch 75/600\n",
      "455/455 [==============================] - 0s 99us/step - loss: 0.1070 - val_loss: 0.0666\n",
      "Epoch 76/600\n",
      "455/455 [==============================] - 0s 73us/step - loss: 0.1146 - val_loss: 0.0654\n",
      "Epoch 77/600\n",
      "455/455 [==============================] - 0s 102us/step - loss: 0.1201 - val_loss: 0.0657\n",
      "Epoch 78/600\n",
      "455/455 [==============================] - 0s 108us/step - loss: 0.0960 - val_loss: 0.0644\n",
      "Epoch 79/600\n"
     ]
    },
    {
     "name": "stdout",
     "output_type": "stream",
     "text": [
      "455/455 [==============================] - 0s 107us/step - loss: 0.1060 - val_loss: 0.0675\n",
      "Epoch 80/600\n",
      "455/455 [==============================] - 0s 110us/step - loss: 0.1092 - val_loss: 0.0626\n",
      "Epoch 81/600\n",
      "455/455 [==============================] - 0s 108us/step - loss: 0.1116 - val_loss: 0.0622\n",
      "Epoch 82/600\n",
      "455/455 [==============================] - 0s 103us/step - loss: 0.1213 - val_loss: 0.0619\n",
      "Epoch 83/600\n",
      "455/455 [==============================] - 0s 101us/step - loss: 0.1045 - val_loss: 0.0641\n",
      "Epoch 84/600\n",
      "455/455 [==============================] - 0s 99us/step - loss: 0.1083 - val_loss: 0.0653\n",
      "Epoch 85/600\n",
      "455/455 [==============================] - 0s 105us/step - loss: 0.0864 - val_loss: 0.0653\n",
      "Epoch 86/600\n",
      "455/455 [==============================] - 0s 108us/step - loss: 0.1133 - val_loss: 0.0654\n",
      "Epoch 87/600\n",
      "455/455 [==============================] - 0s 103us/step - loss: 0.0898 - val_loss: 0.0649\n",
      "Epoch 88/600\n",
      "455/455 [==============================] - 0s 105us/step - loss: 0.1157 - val_loss: 0.0645\n",
      "Epoch 89/600\n",
      "455/455 [==============================] - 0s 81us/step - loss: 0.0953 - val_loss: 0.0643\n",
      "Epoch 90/600\n",
      "455/455 [==============================] - 0s 138us/step - loss: 0.1008 - val_loss: 0.0631\n",
      "Epoch 91/600\n",
      "455/455 [==============================] - 0s 103us/step - loss: 0.1009 - val_loss: 0.0628\n",
      "Epoch 92/600\n",
      "455/455 [==============================] - 0s 105us/step - loss: 0.0948 - val_loss: 0.0616\n",
      "Epoch 93/600\n",
      "455/455 [==============================] - 0s 105us/step - loss: 0.1016 - val_loss: 0.0620\n",
      "Epoch 94/600\n",
      "455/455 [==============================] - 0s 103us/step - loss: 0.0999 - val_loss: 0.0618\n",
      "Epoch 95/600\n",
      "455/455 [==============================] - 0s 108us/step - loss: 0.1015 - val_loss: 0.0619\n",
      "Epoch 96/600\n",
      "455/455 [==============================] - 0s 103us/step - loss: 0.0911 - val_loss: 0.0618\n",
      "Epoch 97/600\n",
      "455/455 [==============================] - 0s 108us/step - loss: 0.0875 - val_loss: 0.0590\n",
      "Epoch 98/600\n",
      "455/455 [==============================] - 0s 108us/step - loss: 0.0867 - val_loss: 0.0584\n",
      "Epoch 99/600\n",
      "455/455 [==============================] - 0s 108us/step - loss: 0.1001 - val_loss: 0.0602\n",
      "Epoch 100/600\n",
      "455/455 [==============================] - 0s 105us/step - loss: 0.0817 - val_loss: 0.0615\n",
      "Epoch 101/600\n",
      "455/455 [==============================] - 0s 105us/step - loss: 0.0760 - val_loss: 0.0584\n",
      "Epoch 102/600\n",
      "455/455 [==============================] - 0s 108us/step - loss: 0.0903 - val_loss: 0.0580\n",
      "Epoch 103/600\n",
      "455/455 [==============================] - 0s 108us/step - loss: 0.0901 - val_loss: 0.0575\n",
      "Epoch 104/600\n",
      "455/455 [==============================] - 0s 116us/step - loss: 0.0629 - val_loss: 0.0569\n",
      "Epoch 105/600\n",
      "455/455 [==============================] - 0s 101us/step - loss: 0.0852 - val_loss: 0.0567\n",
      "Epoch 106/600\n",
      "455/455 [==============================] - 0s 103us/step - loss: 0.0762 - val_loss: 0.0595\n",
      "Epoch 107/600\n",
      "455/455 [==============================] - 0s 119us/step - loss: 0.0803 - val_loss: 0.0591\n",
      "Epoch 108/600\n",
      "455/455 [==============================] - 0s 130us/step - loss: 0.0726 - val_loss: 0.0593\n",
      "Epoch 109/600\n",
      "455/455 [==============================] - 0s 120us/step - loss: 0.0803 - val_loss: 0.0655\n",
      "Epoch 110/600\n",
      "455/455 [==============================] - 0s 130us/step - loss: 0.0942 - val_loss: 0.0608\n",
      "Epoch 111/600\n",
      "455/455 [==============================] - 0s 119us/step - loss: 0.0887 - val_loss: 0.0588\n",
      "Epoch 112/600\n",
      "455/455 [==============================] - 0s 113us/step - loss: 0.0793 - val_loss: 0.0563\n",
      "Epoch 113/600\n",
      "455/455 [==============================] - 0s 117us/step - loss: 0.0855 - val_loss: 0.0569\n",
      "Epoch 114/600\n",
      "455/455 [==============================] - 0s 109us/step - loss: 0.0811 - val_loss: 0.0582\n",
      "Epoch 115/600\n",
      "455/455 [==============================] - 0s 111us/step - loss: 0.0784 - val_loss: 0.0616\n",
      "Epoch 116/600\n",
      "455/455 [==============================] - 0s 153us/step - loss: 0.0820 - val_loss: 0.0587\n",
      "Epoch 117/600\n",
      "455/455 [==============================] - 0s 125us/step - loss: 0.0787 - val_loss: 0.0578\n",
      "Epoch 118/600\n",
      "455/455 [==============================] - 0s 130us/step - loss: 0.0962 - val_loss: 0.0578\n",
      "Epoch 119/600\n",
      "455/455 [==============================] - 0s 125us/step - loss: 0.0819 - val_loss: 0.0571\n",
      "Epoch 120/600\n",
      "455/455 [==============================] - 0s 127us/step - loss: 0.0855 - val_loss: 0.0545\n",
      "Epoch 121/600\n",
      "455/455 [==============================] - 0s 136us/step - loss: 0.0680 - val_loss: 0.0529\n",
      "Epoch 122/600\n",
      "455/455 [==============================] - 0s 130us/step - loss: 0.0828 - val_loss: 0.0575\n",
      "Epoch 123/600\n",
      "455/455 [==============================] - 0s 116us/step - loss: 0.0646 - val_loss: 0.0562\n",
      "Epoch 124/600\n",
      "455/455 [==============================] - 0s 127us/step - loss: 0.0566 - val_loss: 0.0547\n",
      "Epoch 125/600\n",
      "455/455 [==============================] - 0s 123us/step - loss: 0.0641 - val_loss: 0.0545\n",
      "Epoch 126/600\n",
      "455/455 [==============================] - 0s 130us/step - loss: 0.0618 - val_loss: 0.0539\n",
      "Epoch 127/600\n",
      "455/455 [==============================] - 0s 112us/step - loss: 0.0818 - val_loss: 0.0541\n",
      "Epoch 128/600\n",
      "455/455 [==============================] - 0s 123us/step - loss: 0.0595 - val_loss: 0.0543\n",
      "Epoch 129/600\n",
      "455/455 [==============================] - 0s 134us/step - loss: 0.0745 - val_loss: 0.0551\n",
      "Epoch 130/600\n",
      "455/455 [==============================] - 0s 119us/step - loss: 0.0819 - val_loss: 0.0541\n",
      "Epoch 131/600\n",
      "455/455 [==============================] - 0s 132us/step - loss: 0.0645 - val_loss: 0.0557\n",
      "Epoch 132/600\n",
      "455/455 [==============================] - 0s 122us/step - loss: 0.0818 - val_loss: 0.0558\n",
      "Epoch 133/600\n",
      "455/455 [==============================] - 0s 138us/step - loss: 0.0710 - val_loss: 0.0569\n",
      "Epoch 134/600\n",
      "455/455 [==============================] - 0s 103us/step - loss: 0.0645 - val_loss: 0.0558\n",
      "Epoch 135/600\n",
      "455/455 [==============================] - 0s 104us/step - loss: 0.0678 - val_loss: 0.0528\n",
      "Epoch 136/600\n",
      "455/455 [==============================] - 0s 100us/step - loss: 0.0552 - val_loss: 0.0533\n",
      "Epoch 137/600\n",
      "455/455 [==============================] - 0s 110us/step - loss: 0.0695 - val_loss: 0.0539\n",
      "Epoch 138/600\n",
      "455/455 [==============================] - 0s 101us/step - loss: 0.0659 - val_loss: 0.0567\n",
      "Epoch 139/600\n",
      "455/455 [==============================] - 0s 132us/step - loss: 0.0639 - val_loss: 0.0550\n",
      "Epoch 140/600\n",
      "455/455 [==============================] - 0s 125us/step - loss: 0.0778 - val_loss: 0.0531\n",
      "Epoch 141/600\n",
      "455/455 [==============================] - 0s 136us/step - loss: 0.0734 - val_loss: 0.0526\n",
      "Epoch 142/600\n",
      "455/455 [==============================] - 0s 154us/step - loss: 0.0726 - val_loss: 0.0580\n",
      "Epoch 143/600\n",
      "455/455 [==============================] - 0s 164us/step - loss: 0.0733 - val_loss: 0.0557\n",
      "Epoch 144/600\n",
      "455/455 [==============================] - 0s 88us/step - loss: 0.0588 - val_loss: 0.0545\n",
      "Epoch 145/600\n",
      "455/455 [==============================] - 0s 123us/step - loss: 0.0664 - val_loss: 0.0533\n",
      "Epoch 146/600\n",
      "455/455 [==============================] - 0s 120us/step - loss: 0.0583 - val_loss: 0.0527\n",
      "Epoch 147/600\n",
      "455/455 [==============================] - 0s 127us/step - loss: 0.0717 - val_loss: 0.0541\n",
      "Epoch 148/600\n",
      "455/455 [==============================] - 0s 132us/step - loss: 0.0638 - val_loss: 0.0515\n",
      "Epoch 149/600\n",
      "455/455 [==============================] - 0s 130us/step - loss: 0.0692 - val_loss: 0.0519\n",
      "Epoch 150/600\n",
      "455/455 [==============================] - 0s 130us/step - loss: 0.0680 - val_loss: 0.0506\n",
      "Epoch 151/600\n",
      "455/455 [==============================] - 0s 138us/step - loss: 0.0607 - val_loss: 0.0540\n",
      "Epoch 152/600\n",
      "455/455 [==============================] - 0s 127us/step - loss: 0.0729 - val_loss: 0.0626\n",
      "Epoch 153/600\n",
      "455/455 [==============================] - 0s 158us/step - loss: 0.0621 - val_loss: 0.0582\n",
      "Epoch 154/600\n",
      "455/455 [==============================] - 0s 145us/step - loss: 0.0643 - val_loss: 0.0549\n",
      "Epoch 155/600\n",
      "455/455 [==============================] - 0s 143us/step - loss: 0.0539 - val_loss: 0.0558\n",
      "Epoch 156/600\n",
      "455/455 [==============================] - 0s 103us/step - loss: 0.0654 - val_loss: 0.0564\n",
      "Epoch 157/600\n"
     ]
    },
    {
     "name": "stdout",
     "output_type": "stream",
     "text": [
      "455/455 [==============================] - 0s 125us/step - loss: 0.0632 - val_loss: 0.0576\n",
      "Epoch 158/600\n",
      "455/455 [==============================] - 0s 108us/step - loss: 0.0627 - val_loss: 0.0554\n",
      "Epoch 159/600\n",
      "455/455 [==============================] - 0s 100us/step - loss: 0.0560 - val_loss: 0.0487\n",
      "Epoch 160/600\n",
      "455/455 [==============================] - 0s 99us/step - loss: 0.0685 - val_loss: 0.0513\n",
      "Epoch 161/600\n",
      "455/455 [==============================] - 0s 105us/step - loss: 0.0578 - val_loss: 0.0544\n",
      "Epoch 162/600\n",
      "455/455 [==============================] - 0s 105us/step - loss: 0.0562 - val_loss: 0.0563\n",
      "Epoch 163/600\n",
      "455/455 [==============================] - 0s 105us/step - loss: 0.0573 - val_loss: 0.0596\n",
      "Epoch 164/600\n",
      "455/455 [==============================] - 0s 105us/step - loss: 0.0589 - val_loss: 0.0590\n",
      "Epoch 165/600\n",
      "455/455 [==============================] - 0s 103us/step - loss: 0.0604 - val_loss: 0.0565\n",
      "Epoch 166/600\n",
      "455/455 [==============================] - 0s 105us/step - loss: 0.0511 - val_loss: 0.0539\n",
      "Epoch 167/600\n",
      "455/455 [==============================] - 0s 108us/step - loss: 0.0731 - val_loss: 0.0559\n",
      "Epoch 168/600\n",
      "455/455 [==============================] - 0s 110us/step - loss: 0.0735 - val_loss: 0.0551\n",
      "Epoch 169/600\n",
      "455/455 [==============================] - 0s 103us/step - loss: 0.0934 - val_loss: 0.0582\n",
      "Epoch 170/600\n",
      "455/455 [==============================] - 0s 108us/step - loss: 0.0640 - val_loss: 0.0591\n",
      "Epoch 171/600\n",
      "455/455 [==============================] - 0s 110us/step - loss: 0.0591 - val_loss: 0.0554\n",
      "Epoch 172/600\n",
      "455/455 [==============================] - 0s 108us/step - loss: 0.0586 - val_loss: 0.0595\n",
      "Epoch 173/600\n",
      "455/455 [==============================] - 0s 101us/step - loss: 0.0665 - val_loss: 0.0608\n",
      "Epoch 174/600\n",
      "455/455 [==============================] - 0s 99us/step - loss: 0.0545 - val_loss: 0.0611\n",
      "Epoch 175/600\n",
      "455/455 [==============================] - 0s 101us/step - loss: 0.0514 - val_loss: 0.0592\n",
      "Epoch 176/600\n",
      "455/455 [==============================] - 0s 99us/step - loss: 0.0513 - val_loss: 0.0693\n",
      "Epoch 177/600\n",
      "455/455 [==============================] - 0s 103us/step - loss: 0.0656 - val_loss: 0.0589\n",
      "Epoch 178/600\n",
      "455/455 [==============================] - 0s 108us/step - loss: 0.0556 - val_loss: 0.0568\n",
      "Epoch 179/600\n",
      "455/455 [==============================] - 0s 102us/step - loss: 0.0591 - val_loss: 0.0524\n",
      "Epoch 00179: early stopping\n"
     ]
    },
    {
     "data": {
      "text/plain": [
       "<tensorflow.python.keras.callbacks.History at 0x22222182198>"
      ]
     },
     "execution_count": 62,
     "metadata": {},
     "output_type": "execute_result"
    }
   ],
   "source": [
    "'''model.fit(x=X_train,y=y_train,epochs=600,\n",
    "          validation_data=(X_test, y_test),verbose=1\n",
    "         callbacks=[early_stop])'''\n",
    "\n",
    "model.fit(x=X_train, \n",
    "          y=y_train, \n",
    "          epochs=600,\n",
    "          validation_data=(X_test, y_test), verbose=1,\n",
    "          callbacks=[early_stop]\n",
    "          )"
   ]
  },
  {
   "cell_type": "code",
   "execution_count": 63,
   "metadata": {},
   "outputs": [],
   "source": [
    "losses = pd.DataFrame(model.history.history)"
   ]
  },
  {
   "cell_type": "code",
   "execution_count": 64,
   "metadata": {},
   "outputs": [
    {
     "data": {
      "text/plain": [
       "<matplotlib.axes._subplots.AxesSubplot at 0x222228b22e8>"
      ]
     },
     "execution_count": 64,
     "metadata": {},
     "output_type": "execute_result"
    },
    {
     "data": {
      "image/png": "[encoded data removed]",
      "text/plain": [
       "<Figure size 720x576 with 1 Axes>"
      ]
     },
     "metadata": {},
     "output_type": "display_data"
    }
   ],
   "source": [
    "losses.plot(figsize=(10,8),title='training loss vs validation loss')"
   ]
  },
  {
   "cell_type": "code",
   "execution_count": 65,
   "metadata": {},
   "outputs": [],
   "source": [
    "from sklearn.metrics import confusion_matrix,classification_report"
   ]
  },
  {
   "cell_type": "code",
   "execution_count": 66,
   "metadata": {},
   "outputs": [],
   "source": [
    "predictions = model.predict_classes(X_test)"
   ]
  },
  {
   "cell_type": "code",
   "execution_count": 67,
   "metadata": {},
   "outputs": [
    {
     "name": "stdout",
     "output_type": "stream",
     "text": [
      "[[42  1]\n",
      " [ 0 71]]\n"
     ]
    }
   ],
   "source": [
    "print(confusion_matrix(y_test,predictions))"
   ]
  },
  {
   "cell_type": "code",
   "execution_count": 68,
   "metadata": {},
   "outputs": [
    {
     "name": "stdout",
     "output_type": "stream",
     "text": [
      "              precision    recall  f1-score   support\n",
      "\n",
      "           0       1.00      0.98      0.99        43\n",
      "           1       0.99      1.00      0.99        71\n",
      "\n",
      "    accuracy                           0.99       114\n",
      "   macro avg       0.99      0.99      0.99       114\n",
      "weighted avg       0.99      0.99      0.99       114\n",
      "\n"
     ]
    }
   ],
   "source": [
    "print(classification_report(y_test,predictions))"
   ]
  },
  {
   "cell_type": "code",
   "execution_count": 69,
   "metadata": {},
   "outputs": [],
   "source": [
    "from tensorflow.keras.models import load_model\n",
    "model.save('Brest_cancer_model.h5')"
   ]
  },
  {
   "cell_type": "code",
   "execution_count": 75,
   "metadata": {},
   "outputs": [],
   "source": [
    "new =df.head(1).drop('benign_0__mal_1',axis=1)\n",
    "result = df['benign_0__mal_1'].head(1)"
   ]
  },
  {
   "cell_type": "code",
   "execution_count": 74,
   "metadata": {},
   "outputs": [
    {
     "data": {
      "text/html": [
       "<div>\n",
       "<style scoped>\n",
       "    .dataframe tbody tr th:only-of-type {\n",
       "        vertical-align: middle;\n",
       "    }\n",
       "\n",
       "    .dataframe tbody tr th {\n",
       "        vertical-align: top;\n",
       "    }\n",
       "\n",
       "    .dataframe thead th {\n",
       "        text-align: right;\n",
       "    }\n",
       "</style>\n",
       "<table border=\"1\" class=\"dataframe\">\n",
       "  <thead>\n",
       "    <tr style=\"text-align: right;\">\n",
       "      <th></th>\n",
       "      <th>mean radius</th>\n",
       "      <th>mean texture</th>\n",
       "      <th>mean perimeter</th>\n",
       "      <th>mean area</th>\n",
       "      <th>mean smoothness</th>\n",
       "      <th>mean compactness</th>\n",
       "      <th>mean concavity</th>\n",
       "      <th>mean concave points</th>\n",
       "      <th>mean symmetry</th>\n",
       "      <th>mean fractal dimension</th>\n",
       "      <th>...</th>\n",
       "      <th>worst radius</th>\n",
       "      <th>worst texture</th>\n",
       "      <th>worst perimeter</th>\n",
       "      <th>worst area</th>\n",
       "      <th>worst smoothness</th>\n",
       "      <th>worst compactness</th>\n",
       "      <th>worst concavity</th>\n",
       "      <th>worst concave points</th>\n",
       "      <th>worst symmetry</th>\n",
       "      <th>worst fractal dimension</th>\n",
       "    </tr>\n",
       "  </thead>\n",
       "  <tbody>\n",
       "    <tr>\n",
       "      <th>0</th>\n",
       "      <td>17.99</td>\n",
       "      <td>10.38</td>\n",
       "      <td>122.8</td>\n",
       "      <td>1001.0</td>\n",
       "      <td>0.1184</td>\n",
       "      <td>0.2776</td>\n",
       "      <td>0.3001</td>\n",
       "      <td>0.1471</td>\n",
       "      <td>0.2419</td>\n",
       "      <td>0.07871</td>\n",
       "      <td>...</td>\n",
       "      <td>25.38</td>\n",
       "      <td>17.33</td>\n",
       "      <td>184.6</td>\n",
       "      <td>2019.0</td>\n",
       "      <td>0.1622</td>\n",
       "      <td>0.6656</td>\n",
       "      <td>0.7119</td>\n",
       "      <td>0.2654</td>\n",
       "      <td>0.4601</td>\n",
       "      <td>0.1189</td>\n",
       "    </tr>\n",
       "  </tbody>\n",
       "</table>\n",
       "<p>1 rows × 30 columns</p>\n",
       "</div>"
      ],
      "text/plain": [
       "   mean radius  mean texture  mean perimeter  mean area  mean smoothness  \\\n",
       "0        17.99         10.38           122.8     1001.0           0.1184   \n",
       "\n",
       "   mean compactness  mean concavity  mean concave points  mean symmetry  \\\n",
       "0            0.2776          0.3001               0.1471         0.2419   \n",
       "\n",
       "   mean fractal dimension  ...  worst radius  worst texture  worst perimeter  \\\n",
       "0                 0.07871  ...         25.38          17.33            184.6   \n",
       "\n",
       "   worst area  worst smoothness  worst compactness  worst concavity  \\\n",
       "0      2019.0            0.1622             0.6656           0.7119   \n",
       "\n",
       "   worst concave points  worst symmetry  worst fractal dimension  \n",
       "0                0.2654          0.4601                   0.1189  \n",
       "\n",
       "[1 rows x 30 columns]"
      ]
     },
     "execution_count": 74,
     "metadata": {},
     "output_type": "execute_result"
    }
   ],
   "source": [
    "new"
   ]
  },
  {
   "cell_type": "code",
   "execution_count": 76,
   "metadata": {},
   "outputs": [
    {
     "data": {
      "text/plain": [
       "0    0\n",
       "Name: benign_0__mal_1, dtype: int64"
      ]
     },
     "execution_count": 76,
     "metadata": {},
     "output_type": "execute_result"
    }
   ],
   "source": [
    "result"
   ]
  },
  {
   "cell_type": "code",
   "execution_count": 77,
   "metadata": {},
   "outputs": [
    {
     "data": {
      "text/plain": [
       "array([[0.]], dtype=float32)"
      ]
     },
     "execution_count": 77,
     "metadata": {},
     "output_type": "execute_result"
    }
   ],
   "source": [
    "model.predict(new)"
   ]
  },
  {
   "cell_type": "code",
   "execution_count": null,
   "metadata": {},
   "outputs": [],
   "source": []
  }
 ],
 "metadata": {
  "kernelspec": {
   "display_name": "Python 3",
   "language": "python",
   "name": "python3"
  },
  "language_info": {
   "codemirror_mode": {
    "name": "ipython",
    "version": 3
   },
   "file_extension": ".py",
   "mimetype": "text/x-python",
   "name": "python",
   "nbconvert_exporter": "python",
   "pygments_lexer": "ipython3",
   "version": "3.6.10"
  }
 },
 "nbformat": 4,
 "nbformat_minor": 4
}
