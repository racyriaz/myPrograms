{
 "cells": [
  {
   "cell_type": "code",
   "execution_count": 1,
   "metadata": {},
   "outputs": [],
   "source": [
    "import cv2\n",
    "import numpy as np\n",
    "import matplotlib.pyplot as plt\n",
    "\n",
    "pic = cv2.VideoCapture(0)\n",
    "i = 0    \n",
    "    \n",
    "while(True):\n",
    "    ret,img = pic.read()\n",
    "    cv2.imshow('window',img)\n",
    "    print('.',end=' ')\n",
    "    if cv2.waitKey(0) & 0xFF == ord('s'):\n",
    "        i = i + 1\n",
    "        filepath = 'C:\\\\Users\\\\riaz\\\\Desktop\\\\image_{0}_alpha.jpg' .format(i)\n",
    "        cv2.imwrite(filename=filepath,img = img)\n",
    "        print(' Done saving ')\n",
    "        #pic.release()\n",
    "    \n",
    "    if cv2.waitKey(0) & 0xFF == ord('q'):\n",
    "        pic.release()\n",
    "        cv2.destroyAllWindows()\n",
    "        break\n",
    "\n",
    "pic.release()\n",
    "cv2.destroyAllWindows()"
   ]
  },
  {
   "cell_type": "code",
   "execution_count": null,
   "metadata": {},
   "outputs": [],
   "source": [
    "'''i = 0\n",
    "for k in range(1,3):\n",
    "    i = i + 1\n",
    "    filepath = 'C:\\\\Users\\\\riaz\\\\Desktop\\\\image_{0}_alpha.jpg' .format(i)\n",
    "    print(filepath)'''"
   ]
  },
  {
   "cell_type": "code",
   "execution_count": null,
   "metadata": {},
   "outputs": [],
   "source": []
  }
 ],
 "metadata": {
  "kernelspec": {
   "display_name": "Python 3",
   "language": "python",
   "name": "python3"
  },
  "language_info": {
   "codemirror_mode": {
    "name": "ipython",
    "version": 3
   },
   "file_extension": ".py",
   "mimetype": "text/x-python",
   "name": "python",
   "nbconvert_exporter": "python",
   "pygments_lexer": "ipython3",
   "version": "3.6.10"
  }
 },
 "nbformat": 4,
 "nbformat_minor": 4
}
