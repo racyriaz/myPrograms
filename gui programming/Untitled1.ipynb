{
 "cells": [
  {
   "cell_type": "code",
   "execution_count": 2,
   "metadata": {},
   "outputs": [],
   "source": [
    "import sys\n",
    "from PyQt5 import QtCore, QtWidgets\n",
    "from PyQt5.QtWidgets import QMainWindow, QWidget, QLabel, QLineEdit\n",
    "from PyQt5.QtWidgets import QPushButton\n",
    "from PyQt5.QtCore import QSize "
   ]
  },
  {
   "cell_type": "code",
   "execution_count": 4,
   "metadata": {},
   "outputs": [
    {
     "ename": "AttributeError",
     "evalue": "'Ui_obj' object has no attribute 'line'",
     "output_type": "error",
     "traceback": [
      "\u001b[1;31m---------------------------------------------------------------------------\u001b[0m",
      "\u001b[1;31mAttributeError\u001b[0m                            Traceback (most recent call last)",
      "\u001b[1;32m<ipython-input-4-c89b893c0305>\u001b[0m in \u001b[0;36mins\u001b[1;34m(self)\u001b[0m\n\u001b[0;32m     40\u001b[0m         \u001b[0mself\u001b[0m\u001b[1;33m.\u001b[0m\u001b[0mlabel\u001b[0m\u001b[1;33m.\u001b[0m\u001b[0msetText\u001b[0m\u001b[1;33m(\u001b[0m\u001b[0m_translate\u001b[0m\u001b[1;33m(\u001b[0m\u001b[1;34m\"obj\"\u001b[0m\u001b[1;33m,\u001b[0m \u001b[1;34m\"ENTER YOUR NAME  :\"\u001b[0m\u001b[1;33m)\u001b[0m\u001b[1;33m)\u001b[0m\u001b[1;33m\u001b[0m\u001b[1;33m\u001b[0m\u001b[0m\n\u001b[0;32m     41\u001b[0m     \u001b[1;32mdef\u001b[0m \u001b[0mins\u001b[0m\u001b[1;33m(\u001b[0m\u001b[0mself\u001b[0m\u001b[1;33m)\u001b[0m\u001b[1;33m:\u001b[0m\u001b[1;33m\u001b[0m\u001b[1;33m\u001b[0m\u001b[0m\n\u001b[1;32m---> 42\u001b[1;33m         \u001b[0ma\u001b[0m \u001b[1;33m=\u001b[0m \u001b[0mself\u001b[0m\u001b[1;33m.\u001b[0m\u001b[0mline\u001b[0m\u001b[1;33m.\u001b[0m\u001b[0mtext\u001b[0m\u001b[1;33m(\u001b[0m\u001b[1;33m)\u001b[0m\u001b[1;33m\u001b[0m\u001b[1;33m\u001b[0m\u001b[0m\n\u001b[0m\u001b[0;32m     43\u001b[0m \u001b[1;33m\u001b[0m\u001b[0m\n\u001b[0;32m     44\u001b[0m \u001b[1;33m\u001b[0m\u001b[0m\n",
      "\u001b[1;31mAttributeError\u001b[0m: 'Ui_obj' object has no attribute 'line'"
     ]
    },
    {
     "ename": "AttributeError",
     "evalue": "'Ui_obj' object has no attribute 'line'",
     "output_type": "error",
     "traceback": [
      "\u001b[1;31m---------------------------------------------------------------------------\u001b[0m",
      "\u001b[1;31mAttributeError\u001b[0m                            Traceback (most recent call last)",
      "\u001b[1;32m<ipython-input-4-c89b893c0305>\u001b[0m in \u001b[0;36mins\u001b[1;34m(self)\u001b[0m\n\u001b[0;32m     40\u001b[0m         \u001b[0mself\u001b[0m\u001b[1;33m.\u001b[0m\u001b[0mlabel\u001b[0m\u001b[1;33m.\u001b[0m\u001b[0msetText\u001b[0m\u001b[1;33m(\u001b[0m\u001b[0m_translate\u001b[0m\u001b[1;33m(\u001b[0m\u001b[1;34m\"obj\"\u001b[0m\u001b[1;33m,\u001b[0m \u001b[1;34m\"ENTER YOUR NAME  :\"\u001b[0m\u001b[1;33m)\u001b[0m\u001b[1;33m)\u001b[0m\u001b[1;33m\u001b[0m\u001b[1;33m\u001b[0m\u001b[0m\n\u001b[0;32m     41\u001b[0m     \u001b[1;32mdef\u001b[0m \u001b[0mins\u001b[0m\u001b[1;33m(\u001b[0m\u001b[0mself\u001b[0m\u001b[1;33m)\u001b[0m\u001b[1;33m:\u001b[0m\u001b[1;33m\u001b[0m\u001b[1;33m\u001b[0m\u001b[0m\n\u001b[1;32m---> 42\u001b[1;33m         \u001b[0ma\u001b[0m \u001b[1;33m=\u001b[0m \u001b[0mself\u001b[0m\u001b[1;33m.\u001b[0m\u001b[0mline\u001b[0m\u001b[1;33m.\u001b[0m\u001b[0mtext\u001b[0m\u001b[1;33m(\u001b[0m\u001b[1;33m)\u001b[0m\u001b[1;33m\u001b[0m\u001b[1;33m\u001b[0m\u001b[0m\n\u001b[0m\u001b[0;32m     43\u001b[0m \u001b[1;33m\u001b[0m\u001b[0m\n\u001b[0;32m     44\u001b[0m \u001b[1;33m\u001b[0m\u001b[0m\n",
      "\u001b[1;31mAttributeError\u001b[0m: 'Ui_obj' object has no attribute 'line'"
     ]
    },
    {
     "ename": "SystemExit",
     "evalue": "0",
     "output_type": "error",
     "traceback": [
      "An exception has occurred, use %tb to see the full traceback.\n",
      "\u001b[1;31mSystemExit\u001b[0m\u001b[1;31m:\u001b[0m 0\n"
     ]
    },
    {
     "name": "stderr",
     "output_type": "stream",
     "text": [
      "C:\\Users\\Machine\\anaconda3\\envs\\python-cvcourse\\lib\\site-packages\\IPython\\core\\interactiveshell.py:3351: UserWarning: To exit: use 'exit', 'quit', or Ctrl-D.\n",
      "  warn(\"To exit: use 'exit', 'quit', or Ctrl-D.\", stacklevel=1)\n"
     ]
    }
   ],
   "source": [
    "class MainWindow(QMainWindow):\n",
    "    def __init__(self):\n",
    "        QMainWindow.__init__(self)\n",
    "        \n",
    "        obj.setObjectName(\"obj\")\n",
    "        obj.resize(400, 184)\n",
    "        font = QtGui.QFont()\n",
    "        font.setFamily(\"Gilroy\")\n",
    "        obj.setFont(font)\n",
    "        self.gridLayout = QtWidgets.QGridLayout(obj)\n",
    "        self.gridLayout.setObjectName(\"gridLayout\")\n",
    "        self.hint = QtWidgets.QLabel(obj)\n",
    "        self.hint.setText(\"\")\n",
    "        self.hint.setAlignment(QtCore.Qt.AlignRight|QtCore.Qt.AlignTrailing|QtCore.Qt.AlignVCenter)\n",
    "        self.hint.setObjectName(\"hint\")\n",
    "        self.gridLayout.addWidget(self.hint, 0, 0, 1, 1)\n",
    "        self.label = QtWidgets.QLabel(obj)\n",
    "        self.label.setObjectName(\"label\")\n",
    "        self.gridLayout.addWidget(self.label, 0, 1, 1, 1)\n",
    "        self.lineEdit = QtWidgets.QLineEdit(obj)\n",
    "        self.lineEdit.setObjectName(\"lineEdit\")\n",
    "        self.gridLayout.addWidget(self.lineEdit, 0, 2, 1, 1)\n",
    "        self.textBrowser = QtWidgets.QTextBrowser(obj)\n",
    "        self.textBrowser.setObjectName(\"textBrowser\")\n",
    "        self.gridLayout.addWidget(self.textBrowser, 1, 1, 1, 2)\n",
    "        self.buttonBox = QtWidgets.QDialogButtonBox(obj)\n",
    "        self.buttonBox.setOrientation(QtCore.Qt.Vertical)\n",
    "        self.buttonBox.setStandardButtons(QtWidgets.QDialogButtonBox.Cancel|QtWidgets.QDialogButtonBox.Ok)\n",
    "        self.buttonBox.setCenterButtons(True)\n",
    "        self.buttonBox.setObjectName(\"buttonBox\")\n",
    "        self.gridLayout.addWidget(self.buttonBox, 0, 3, 2, 1)\n",
    "\n",
    "        self.retranslateUi(obj)\n",
    "        self.buttonBox.accepted.connect(self.ins)\n",
    "        self.buttonBox.rejected.connect(obj.reject)\n",
    "        self.lineEdit.returnPressed.connect(self.ins)\n",
    "        QtCore.QMetaObject.connectSlotsByName(obj)\n",
    "\n",
    "    def retranslateUi(self, obj):\n",
    "        _translate = QtCore.QCoreApplication.translate\n",
    "        obj.setWindowTitle(_translate(\"obj\", \"dirty_box\"))\n",
    "        self.label.setText(_translate(\"obj\", \"ENTER YOUR NAME  :\"))\n",
    "    def ins(self):\n",
    "        a = self.line.text()\n",
    "\n",
    "\n",
    "    def ins(self):\n",
    "        print('Your name: ' + self.line.text())\n",
    "        \n",
    "        \n",
    "if __name__ == \"__main__\":    \n",
    "    app = QtWidgets.QApplication(sys.argv)\n",
    "    mainWin = MainWindow()\n",
    "    mainWin.show()\n",
    "    sys.exit( app.exec_() )\n"
   ]
  },
  {
   "cell_type": "code",
   "execution_count": 1,
   "metadata": {},
   "outputs": [
    {
     "name": "stdout",
     "output_type": "stream",
     "text": [
      "Your name: hi hellow\n"
     ]
    },
    {
     "ename": "SystemExit",
     "evalue": "0",
     "output_type": "error",
     "traceback": [
      "An exception has occurred, use %tb to see the full traceback.\n",
      "\u001b[1;31mSystemExit\u001b[0m\u001b[1;31m:\u001b[0m 0\n"
     ]
    },
    {
     "name": "stderr",
     "output_type": "stream",
     "text": [
      "C:\\Users\\Machine\\anaconda3\\envs\\python-cvcourse\\lib\\site-packages\\IPython\\core\\interactiveshell.py:3351: UserWarning: To exit: use 'exit', 'quit', or Ctrl-D.\n",
      "  warn(\"To exit: use 'exit', 'quit', or Ctrl-D.\", stacklevel=1)\n"
     ]
    }
   ],
   "source": [
    "   \n",
    "\n",
    "\n",
    "\n",
    "\n",
    "        self.setMinimumSize(QSize(320, 140))    \n",
    "        self.setWindowTitle(\"PyQt Line Edit example (textfield) - pythonprogramminglanguage.com\") \n",
    "\n",
    "        self.nameLabel = QLabel(self)\n",
    "        self.nameLabel.setText('Name:')\n",
    "        self.line = QLineEdit(self)\n",
    "\n",
    "        self.line.move(80, 20)\n",
    "        self.line.resize(200, 32)\n",
    "        self.nameLabel.move(20, 20)\n",
    "\n",
    "        pybutton = QPushButton('OK', self)\n",
    "        pybutton.clicked.connect(self.clickMethod)\n",
    "        pybutton.resize(200,32)\n",
    "        pybutton.move(80, 60)        \n",
    "\n",
    "\n",
    "if __name__ == \"__main__\":\n"
   ]
  },
  {
   "cell_type": "code",
   "execution_count": null,
   "metadata": {},
   "outputs": [],
   "source": []
  }
 ],
 "metadata": {
  "kernelspec": {
   "display_name": "Python 3",
   "language": "python",
   "name": "python3"
  },
  "language_info": {
   "codemirror_mode": {
    "name": "ipython",
    "version": 3
   },
   "file_extension": ".py",
   "mimetype": "text/x-python",
   "name": "python",
   "nbconvert_exporter": "python",
   "pygments_lexer": "ipython3",
   "version": "3.6.10"
  }
 },
 "nbformat": 4,
 "nbformat_minor": 4
}
