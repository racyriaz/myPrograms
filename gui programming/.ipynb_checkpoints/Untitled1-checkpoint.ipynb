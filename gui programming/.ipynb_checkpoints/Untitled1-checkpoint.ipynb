{
 "cells": [
  {
   "cell_type": "code",
   "execution_count": 2,
   "metadata": {},
   "outputs": [],
   "source": [
    "from PyQt5 import QtCore, QtGui, QtWidgets"
   ]
  },
  {
   "cell_type": "code",
   "execution_count": 3,
   "metadata": {},
   "outputs": [
    {
     "ename": "TypeError",
     "evalue": "ins() missing 1 required positional argument: 'obj'",
     "output_type": "error",
     "traceback": [
      "\u001b[1;31m---------------------------------------------------------------------------\u001b[0m",
      "\u001b[1;31mTypeError\u001b[0m                                 Traceback (most recent call last)",
      "\u001b[1;31mTypeError\u001b[0m: ins() missing 1 required positional argument: 'obj'"
     ]
    },
    {
     "ename": "SystemExit",
     "evalue": "0",
     "output_type": "error",
     "traceback": [
      "An exception has occurred, use %tb to see the full traceback.\n",
      "\u001b[1;31mSystemExit\u001b[0m\u001b[1;31m:\u001b[0m 0\n"
     ]
    },
    {
     "name": "stderr",
     "output_type": "stream",
     "text": [
      "C:\\Users\\Machine\\anaconda3\\envs\\python-cvcourse\\lib\\site-packages\\IPython\\core\\interactiveshell.py:3351: UserWarning: To exit: use 'exit', 'quit', or Ctrl-D.\n",
      "  warn(\"To exit: use 'exit', 'quit', or Ctrl-D.\", stacklevel=1)\n"
     ]
    }
   ],
   "source": [
    "class Ui_obj(object):\n",
    "    def setupUi(self, obj):\n",
    "        obj.setObjectName(\"obj\")\n",
    "        obj.resize(400, 184)\n",
    "        font = QtGui.QFont()\n",
    "        font.setFamily(\"Gilroy\")\n",
    "        obj.setFont(font)\n",
    "        self.gridLayout = QtWidgets.QGridLayout(obj)\n",
    "        self.gridLayout.setObjectName(\"gridLayout\")\n",
    "        self.hint = QtWidgets.QLabel(obj)\n",
    "        self.hint.setText(\"\")\n",
    "        self.hint.setAlignment(QtCore.Qt.AlignRight|QtCore.Qt.AlignTrailing|QtCore.Qt.AlignVCenter)\n",
    "        self.hint.setObjectName(\"hint\")\n",
    "        self.gridLayout.addWidget(self.hint, 0, 0, 1, 1)\n",
    "        self.label = QtWidgets.QLabel(obj)\n",
    "        self.label.setObjectName(\"label\")\n",
    "        self.gridLayout.addWidget(self.label, 0, 1, 1, 1)\n",
    "        self.lineEdit = QtWidgets.QLineEdit(obj)\n",
    "        self.lineEdit.setObjectName(\"lineEdit\")\n",
    "        self.gridLayout.addWidget(self.lineEdit, 0, 2, 1, 1)\n",
    "        self.textBrowser = QtWidgets.QTextBrowser(obj)\n",
    "        self.textBrowser.setObjectName(\"textBrowser\")\n",
    "        self.gridLayout.addWidget(self.textBrowser, 1, 1, 1, 2)\n",
    "        self.buttonBox = QtWidgets.QDialogButtonBox(obj)\n",
    "        self.buttonBox.setOrientation(QtCore.Qt.Vertical)\n",
    "        self.buttonBox.setStandardButtons(QtWidgets.QDialogButtonBox.Cancel|QtWidgets.QDialogButtonBox.Ok)\n",
    "        self.buttonBox.setCenterButtons(True)\n",
    "        self.buttonBox.setObjectName(\"buttonBox\")\n",
    "        self.gridLayout.addWidget(self.buttonBox, 0, 3, 2, 1)\n",
    "\n",
    "        self.retranslateUi(obj)\n",
    "        self.buttonBox.accepted.connect(self.ins)\n",
    "        self.buttonBox.rejected.connect(obj.reject)\n",
    "        self.lineEdit.returnPressed.connect(self.ins)\n",
    "        QtCore.QMetaObject.connectSlotsByName(obj)\n",
    "\n",
    "    def retranslateUi(self, obj):\n",
    "        _translate = QtCore.QCoreApplication.translate\n",
    "        obj.setWindowTitle(_translate(\"obj\", \"dirty_box\"))\n",
    "        self.label.setText(_translate(\"obj\", \"ENTER YOUR NAME  :\"))\n",
    "    def ins(self):\n",
    "        a = self.line.text()\n",
    "\n",
    "\n",
    "        \n",
    "        \n",
    "if __name__ == \"__main__\":\n",
    "    import sys\n",
    "    app = QtWidgets.QApplication(sys.argv)\n",
    "    obj = QtWidgets.QDialog()\n",
    "    ui = Ui_obj()\n",
    "    ui.setupUi(obj)\n",
    "    obj.show()\n",
    "    sys.exit(app.exec_())\n"
   ]
  },
  {
   "cell_type": "code",
   "execution_count": null,
   "metadata": {},
   "outputs": [],
   "source": []
  }
 ],
 "metadata": {
  "kernelspec": {
   "display_name": "Python 3",
   "language": "python",
   "name": "python3"
  },
  "language_info": {
   "codemirror_mode": {
    "name": "ipython",
    "version": 3
   },
   "file_extension": ".py",
   "mimetype": "text/x-python",
   "name": "python",
   "nbconvert_exporter": "python",
   "pygments_lexer": "ipython3",
   "version": "3.6.10"
  }
 },
 "nbformat": 4,
 "nbformat_minor": 4
}
