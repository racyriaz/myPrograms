{
 "cells": [
  {
   "cell_type": "code",
   "execution_count": 1,
   "metadata": {},
   "outputs": [],
   "source": [
    "import pandas as pd"
   ]
  },
  {
   "cell_type": "code",
   "execution_count": 6,
   "metadata": {},
   "outputs": [
    {
     "name": "stdout",
     "output_type": "stream",
     "text": [
      "Enter the class strength :  3\n",
      "Enter the Students REGISTER NUMBER :  01\n",
      "Enter the Students NAME :  Kiran\n",
      "Enter the LANGUAGE mark :  65\n",
      "Enter the ENGLISH mark :  85\n",
      "Enter the MATHS mark :  73\n",
      "Enter the SCIENCE mark :  78\n",
      "Enter the SOCIAL mark :  80\n",
      "Enter the Students REGISTER NUMBER :  02\n",
      "Enter the Students NAME :  lilly\n",
      "Enter the LANGUAGE mark :  68\n",
      "Enter the ENGLISH mark :  84\n",
      "Enter the MATHS mark :  57\n",
      "Enter the SCIENCE mark :  84\n",
      "Enter the SOCIAL mark :  89\n",
      "Enter the Students REGISTER NUMBER :  03\n",
      "Enter the Students NAME :  Joe\n",
      "Enter the LANGUAGE mark :  60\n",
      "Enter the ENGLISH mark :  62\n",
      "Enter the MATHS mark :  45\n",
      "Enter the SCIENCE mark :  35\n",
      "Enter the SOCIAL mark :  50\n"
     ]
    },
    {
     "ename": "KeyError",
     "evalue": "\"None of ['03'] are in the columns\"",
     "output_type": "error",
     "traceback": [
      "\u001b[1;31m---------------------------------------------------------------------------\u001b[0m",
      "\u001b[1;31mKeyError\u001b[0m                                  Traceback (most recent call last)",
      "\u001b[1;32m<ipython-input-6-c5f6d2cffba3>\u001b[0m in \u001b[0;36m<module>\u001b[1;34m\u001b[0m\n\u001b[0;32m     15\u001b[0m     \u001b[0mdf\u001b[0m \u001b[1;33m=\u001b[0m \u001b[0mpd\u001b[0m\u001b[1;33m.\u001b[0m\u001b[0mconcat\u001b[0m\u001b[1;33m(\u001b[0m\u001b[1;33m[\u001b[0m\u001b[0mdf\u001b[0m\u001b[1;33m,\u001b[0m\u001b[0mdf1\u001b[0m\u001b[1;33m]\u001b[0m\u001b[1;33m,\u001b[0m \u001b[0maxis\u001b[0m\u001b[1;33m=\u001b[0m\u001b[1;36m0\u001b[0m\u001b[1;33m)\u001b[0m\u001b[1;33m\u001b[0m\u001b[1;33m\u001b[0m\u001b[0m\n\u001b[0;32m     16\u001b[0m \u001b[1;33m\u001b[0m\u001b[0m\n\u001b[1;32m---> 17\u001b[1;33m \u001b[0mdf\u001b[0m \u001b[1;33m=\u001b[0m \u001b[0mdf\u001b[0m\u001b[1;33m.\u001b[0m\u001b[0mset_index\u001b[0m\u001b[1;33m(\u001b[0m\u001b[0mreg_no\u001b[0m\u001b[1;33m)\u001b[0m\u001b[1;33m\u001b[0m\u001b[1;33m\u001b[0m\u001b[0m\n\u001b[0m\u001b[0;32m     18\u001b[0m \u001b[0mdf\u001b[0m\u001b[1;33m.\u001b[0m\u001b[0mhead\u001b[0m\u001b[1;33m(\u001b[0m\u001b[1;36m2\u001b[0m\u001b[1;33m)\u001b[0m\u001b[1;33m\u001b[0m\u001b[1;33m\u001b[0m\u001b[0m\n",
      "\u001b[1;32m~\\anaconda3\\envs\\python-cvcourse\\lib\\site-packages\\pandas\\core\\frame.py\u001b[0m in \u001b[0;36mset_index\u001b[1;34m(self, keys, drop, append, inplace, verify_integrity)\u001b[0m\n\u001b[0;32m   4301\u001b[0m \u001b[1;33m\u001b[0m\u001b[0m\n\u001b[0;32m   4302\u001b[0m         \u001b[1;32mif\u001b[0m \u001b[0mmissing\u001b[0m\u001b[1;33m:\u001b[0m\u001b[1;33m\u001b[0m\u001b[1;33m\u001b[0m\u001b[0m\n\u001b[1;32m-> 4303\u001b[1;33m             \u001b[1;32mraise\u001b[0m \u001b[0mKeyError\u001b[0m\u001b[1;33m(\u001b[0m\u001b[1;34mf\"None of {missing} are in the columns\"\u001b[0m\u001b[1;33m)\u001b[0m\u001b[1;33m\u001b[0m\u001b[1;33m\u001b[0m\u001b[0m\n\u001b[0m\u001b[0;32m   4304\u001b[0m \u001b[1;33m\u001b[0m\u001b[0m\n\u001b[0;32m   4305\u001b[0m         \u001b[1;32mif\u001b[0m \u001b[0minplace\u001b[0m\u001b[1;33m:\u001b[0m\u001b[1;33m\u001b[0m\u001b[1;33m\u001b[0m\u001b[0m\n",
      "\u001b[1;31mKeyError\u001b[0m: \"None of ['03'] are in the columns\""
     ]
    }
   ],
   "source": [
    "df = pd.DataFrame(columns=[\"reg_no\", \"name\", \"lang_mark\", \"eng_mark\",\"mat_mark\",\"sci_mark\",\"soc_mark\"])\n",
    "n = int(input(\"Enter the class strength :  \"))\n",
    "\n",
    "for _ in range(n):\n",
    "    reg_no = input(\"Enter the Students REGISTER NUMBER :  \")\n",
    "    name = input(\"Enter the Students NAME :  \")\n",
    "    lang_mark = input(\"Enter the LANGUAGE mark :  \")\n",
    "    eng_mark = input(\"Enter the ENGLISH mark :  \")\n",
    "    mat_mark = input(\"Enter the MATHS mark :  \")\n",
    "    sci_mark = input(\"Enter the SCIENCE mark :  \")\n",
    "    soc_mark = input(\"Enter the SOCIAL mark :  \")\n",
    "    \n",
    "    df1 = pd.DataFrame(data=[[reg_no,name,lang_mark,eng_mark,mat_mark,sci_mark,soc_mark]],\n",
    "                       columns=[\"reg_no\", \"name\", \"lang_mark\", \"eng_mark\",\"mat_mark\",\"sci_mark\",\"soc_mark\"])\n",
    "    df = pd.concat([df,df1], axis=0)\n",
    "\n",
    "df = df.set_index('reg_no')\n",
    "df.head(2)"
   ]
  },
  {
   "cell_type": "code",
   "execution_count": null,
   "metadata": {},
   "outputs": [],
   "source": []
  }
 ],
 "metadata": {
  "kernelspec": {
   "display_name": "Python 3",
   "language": "python",
   "name": "python3"
  },
  "language_info": {
   "codemirror_mode": {
    "name": "ipython",
    "version": 3
   },
   "file_extension": ".py",
   "mimetype": "text/x-python",
   "name": "python",
   "nbconvert_exporter": "python",
   "pygments_lexer": "ipython3",
   "version": "3.6.10"
  }
 },
 "nbformat": 4,
 "nbformat_minor": 4
}
